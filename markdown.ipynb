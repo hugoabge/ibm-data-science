# Data Science Tools and Ecosystem


## Introduction
In this notebook, Data Science Tools and Ecosystem are summarized.

## Data Science Languages
Some of the popular languages that Data Scientists use are:

1. Python  
2. R  
3. SQL  
4. Julia  
5. Scala


## Data Science Libraries
Some of the commonly used libraries used by Data Scientists include:

1. Pandas  
2. NumPy  
3. Matplotlib  
4. Scikit-learn  
5. TensorFlow


## Data Science Tools

| Category         | Tool              |
|------------------|-------------------|
| Data Cleaning     | OpenRefine        |
| Data Analysis     | Apache Spark      |
| Machine Learning  | TensorFlow        |
| Data Visualization| Tableau           |





## Arithmetic Expressions in Python
Below are examples of evaluating arithmetic expressions in Python.


# This a simple arithmetic expression to multiply then add integers
(3 * 4) + 5


# This will convert 200 minutes to hours by dividing by 60
200 / 60



## Objectives

- List popular languages for Data Science  
- List commonly used libraries and tools  
- Show examples of arithmetic expressions  
- Practice working with Jupyter Notebooks  
- Publish notebook to GitHub


## Author
**Your Name Here**
